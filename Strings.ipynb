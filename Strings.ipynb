{
 "cells": [
  {
   "cell_type": "markdown",
   "metadata": {},
   "source": [
    "# Normal for loop and convert to map + lambda\n"
   ]
  },
  {
   "cell_type": "code",
   "execution_count": 26,
   "metadata": {},
   "outputs": [
    {
     "data": {
      "text/plain": [
       "['Dr. John',\n",
       " 'Dr. Joe',\n",
       " 'Dr. Phil',\n",
       " 'Dr. examp',\n",
       " 'Mr. John',\n",
       " 'Mr. Joe',\n",
       " 'Mr. Phil',\n",
       " 'Mr. examp',\n",
       " 'Mrs. John',\n",
       " 'Mrs. Joe',\n",
       " 'Mrs. Phil',\n",
       " 'Mrs. examp',\n",
       " 'Sgt. John',\n",
       " 'Sgt. Joe',\n",
       " 'Sgt. Phil',\n",
       " 'Sgt. examp']"
      ]
     },
     "execution_count": 26,
     "metadata": {},
     "output_type": "execute_result"
    }
   ],
   "source": [
    "hon = [\"Dr.\" , \"Mr.\" , \"Mrs.\" , \"Sgt.\"]\n",
    "names = [\"John\" , \"Joe\" , \"Phil\" , \"examp\"]\n",
    "\n",
    "def addHon2Names(h , n):\n",
    "    forLoop = []\n",
    "    for h in hon:\n",
    "        for n in names:\n",
    "            forLoop.append(h +' ' +n)\n",
    "    return forLoop\n",
    "            \n",
    "ans = addHon2Names(hon , names)\n",
    "ans"
   ]
  },
  {
   "cell_type": "code",
   "execution_count": 27,
   "metadata": {},
   "outputs": [
    {
     "data": {
      "text/plain": [
       "['Dr. John', 'Mr. Joe', 'Mrs. Phil', 'Sgt. examp']"
      ]
     },
     "execution_count": 27,
     "metadata": {},
     "output_type": "execute_result"
    }
   ],
   "source": [
    "(list(map((lambda h , n : h+' '+ n) , hon,names )))"
   ]
  },
  {
   "cell_type": "markdown",
   "metadata": {},
   "source": [
    "# Map iterates one iterable each time and passes it to function\n"
   ]
  },
  {
   "cell_type": "code",
   "execution_count": 28,
   "metadata": {},
   "outputs": [
    {
     "data": {
      "text/plain": [
       "[['Dr.John', 'Dr.Joe', 'Dr.Phil', 'Dr.examp'],\n",
       " ['Mr.John', 'Mr.Joe', 'Mr.Phil', 'Mr.examp'],\n",
       " ['Mrs.John', 'Mrs.Joe', 'Mrs.Phil', 'Mrs.examp'],\n",
       " ['Sgt.John', 'Sgt.Joe', 'Sgt.Phil', 'Sgt.examp']]"
      ]
     },
     "execution_count": 28,
     "metadata": {},
     "output_type": "execute_result"
    }
   ],
   "source": [
    "def honify(a , b):\n",
    "   \n",
    "    #aux = []\n",
    "    #for name in b:\n",
    "    #    aux.append(a + ' ' + name)\n",
    "    \n",
    "    aux = [a + n for n in b]\n",
    "    return aux\n",
    "(list(map(honify, hon,[names]*4)))"
   ]
  },
  {
   "cell_type": "code",
   "execution_count": 29,
   "metadata": {},
   "outputs": [
    {
     "data": {
      "text/plain": [
       "[['Dr.John', 'Dr.Joe', 'Dr.Phil', 'Dr.examp'],\n",
       " ['Mr.John', 'Mr.Joe', 'Mr.Phil', 'Mr.examp'],\n",
       " ['Mrs.John', 'Mrs.Joe', 'Mrs.Phil', 'Mrs.examp'],\n",
       " ['Sgt.John', 'Sgt.Joe', 'Sgt.Phil', 'Sgt.examp']]"
      ]
     },
     "execution_count": 29,
     "metadata": {},
     "output_type": "execute_result"
    }
   ],
   "source": [
    "list(map((lambda h, n : [h+b for b in n]),hon , [names]*4))"
   ]
  },
  {
   "cell_type": "code",
   "execution_count": 35,
   "metadata": {},
   "outputs": [
    {
     "data": {
      "text/plain": [
       "['Dr. John',\n",
       " 'Dr. Joe',\n",
       " 'Dr. Phil',\n",
       " 'Dr. examp',\n",
       " 'Mr. John',\n",
       " 'Mr. Joe',\n",
       " 'Mr. Phil',\n",
       " 'Mr. examp',\n",
       " 'Mrs. John',\n",
       " 'Mrs. Joe',\n",
       " 'Mrs. Phil',\n",
       " 'Mrs. examp',\n",
       " 'Sgt. John',\n",
       " 'Sgt. Joe',\n",
       " 'Sgt. Phil',\n",
       " 'Sgt. examp']"
      ]
     },
     "execution_count": 35,
     "metadata": {},
     "output_type": "execute_result"
    }
   ],
   "source": [
    "nL = [h+' '+n for h in hon for n in names]\n",
    "nL"
   ]
  },
  {
   "cell_type": "markdown",
   "metadata": {},
   "source": [
    "# Filter By Honorific\n"
   ]
  },
  {
   "cell_type": "code",
   "execution_count": 42,
   "metadata": {},
   "outputs": [
    {
     "name": "stdout",
     "output_type": "stream",
     "text": [
      "enter what honorific to filter bySgt.\n"
     ]
    }
   ],
   "source": [
    "def filterByHon(s):\n",
    " a = list(filter(lambda name: name.split()[0] == s , nL)) # if condition true filter it or ignore\n",
    " return a\n",
    "inp = input(\"enter what honorific to filter by\")\n",
    "out = filterByHon(inp)"
   ]
  },
  {
   "cell_type": "code",
   "execution_count": 43,
   "metadata": {},
   "outputs": [
    {
     "data": {
      "text/plain": [
       "'sgt. john'"
      ]
     },
     "execution_count": 43,
     "metadata": {},
     "output_type": "execute_result"
    }
   ],
   "source": [
    "out[0].lower()"
   ]
  },
  {
   "cell_type": "code",
   "execution_count": 44,
   "metadata": {},
   "outputs": [
    {
     "data": {
      "text/plain": [
       "'SGT. JOE'"
      ]
     },
     "execution_count": 44,
     "metadata": {},
     "output_type": "execute_result"
    }
   ],
   "source": [
    "out[1].upper()"
   ]
  },
  {
   "cell_type": "code",
   "execution_count": 50,
   "metadata": {},
   "outputs": [
    {
     "data": {
      "text/plain": [
       "'Hon: Sgt Name:  Phil'"
      ]
     },
     "execution_count": 50,
     "metadata": {},
     "output_type": "execute_result"
    }
   ],
   "source": [
    "'Hon: ' + out[2].split('.')[0] + ' Name: '+out[2].split('.')[1]"
   ]
  },
  {
   "cell_type": "markdown",
   "metadata": {},
   "source": [
    "# Dictionaries\n"
   ]
  },
  {
   "cell_type": "code",
   "execution_count": 57,
   "metadata": {},
   "outputs": [
    {
     "data": {
      "text/plain": [
       "{'Dr.0': 'John',\n",
       " 'Dr.1': 'Joe',\n",
       " 'Dr.2': 'Phil',\n",
       " 'Dr.3': 'examp',\n",
       " 'Mr.0': 'John',\n",
       " 'Mr.1': 'Joe',\n",
       " 'Mr.2': 'Phil',\n",
       " 'Mr.3': 'examp',\n",
       " 'Mrs.0': 'John',\n",
       " 'Mrs.1': 'Joe',\n",
       " 'Mrs.2': 'Phil',\n",
       " 'Mrs.3': 'examp',\n",
       " 'Sgt.0': 'John',\n",
       " 'Sgt.1': 'Joe',\n",
       " 'Sgt.2': 'Phil',\n",
       " 'Sgt.3': 'examp'}"
      ]
     },
     "execution_count": 57,
     "metadata": {},
     "output_type": "execute_result"
    }
   ],
   "source": [
    "dict = {}\n",
    "for h in hon:\n",
    "    c = 0\n",
    "    for n in names:\n",
    "        dict[h+'{}'.format(c)] = n\n",
    "        c=c+1\n",
    "dict"
   ]
  },
  {
   "cell_type": "code",
   "execution_count": 62,
   "metadata": {},
   "outputs": [
    {
     "data": {
      "text/plain": [
       "('Sgt.2', 'Phil')"
      ]
     },
     "execution_count": 62,
     "metadata": {},
     "output_type": "execute_result"
    }
   ],
   "source": [
    "dict.popitem() #pops last item where as dict.pop(key) pops specific item"
   ]
  },
  {
   "cell_type": "code",
   "execution_count": 65,
   "metadata": {},
   "outputs": [
    {
     "data": {
      "text/plain": [
       "dict_items([('Dr.0', 'John'), ('Dr.1', 'Joe'), ('Dr.2', 'Phil'), ('Dr.3', 'examp'), ('Mr.0', 'John'), ('Mr.1', 'Joe'), ('Mr.2', 'Phil'), ('Mr.3', 'examp'), ('Mrs.0', 'John'), ('Mrs.1', 'Joe'), ('Mrs.2', 'Phil'), ('Mrs.3', 'examp'), ('Sgt.0', 'John'), ('Sgt.1', 'Joe')])"
      ]
     },
     "execution_count": 65,
     "metadata": {},
     "output_type": "execute_result"
    }
   ],
   "source": [
    "dict.items()"
   ]
  },
  {
   "cell_type": "code",
   "execution_count": 67,
   "metadata": {},
   "outputs": [
    {
     "data": {
      "text/plain": [
       "True"
      ]
     },
     "execution_count": 67,
     "metadata": {},
     "output_type": "execute_result"
    }
   ],
   "source": [
    "'Dr.0' in dict"
   ]
  },
  {
   "cell_type": "code",
   "execution_count": null,
   "metadata": {},
   "outputs": [],
   "source": []
  }
 ],
 "metadata": {
  "kernelspec": {
   "display_name": "Python 3",
   "language": "python",
   "name": "python3"
  },
  "language_info": {
   "codemirror_mode": {
    "name": "ipython",
    "version": 3
   },
   "file_extension": ".py",
   "mimetype": "text/x-python",
   "name": "python",
   "nbconvert_exporter": "python",
   "pygments_lexer": "ipython3",
   "version": "3.7.6"
  }
 },
 "nbformat": 4,
 "nbformat_minor": 4
}
