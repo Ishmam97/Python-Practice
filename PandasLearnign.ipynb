{
 "cells": [
  {
   "cell_type": "code",
   "execution_count": 1,
   "metadata": {},
   "outputs": [],
   "source": [
    "import pandas as pd\n",
    "\n",
    "pd.set_option('display.max_rows', None) #figure out how to display specific no. of rows other than specifying head\n",
    "\n",
    "df = pd.read_csv('pokemon.csv')\n",
    "df = df.drop(columns=['#'])\n",
    "df = df.sort_index(0)"
   ]
  },
  {
   "cell_type": "code",
   "execution_count": 2,
   "metadata": {},
   "outputs": [
    {
     "data": {
      "text/html": [
       "<div>\n",
       "<style scoped>\n",
       "    .dataframe tbody tr th:only-of-type {\n",
       "        vertical-align: middle;\n",
       "    }\n",
       "\n",
       "    .dataframe tbody tr th {\n",
       "        vertical-align: top;\n",
       "    }\n",
       "\n",
       "    .dataframe thead th {\n",
       "        text-align: right;\n",
       "    }\n",
       "</style>\n",
       "<table border=\"1\" class=\"dataframe\">\n",
       "  <thead>\n",
       "    <tr style=\"text-align: right;\">\n",
       "      <th></th>\n",
       "      <th>Name</th>\n",
       "      <th>Type 1</th>\n",
       "      <th>Type 2</th>\n",
       "      <th>Total</th>\n",
       "      <th>HP</th>\n",
       "      <th>Attack</th>\n",
       "      <th>Defense</th>\n",
       "      <th>Sp. Atk</th>\n",
       "      <th>Sp. Def</th>\n",
       "      <th>Speed</th>\n",
       "      <th>Generation</th>\n",
       "      <th>Legendary</th>\n",
       "    </tr>\n",
       "  </thead>\n",
       "  <tbody>\n",
       "    <tr>\n",
       "      <th>0</th>\n",
       "      <td>Bulbasaur</td>\n",
       "      <td>Grass</td>\n",
       "      <td>Poison</td>\n",
       "      <td>318</td>\n",
       "      <td>45</td>\n",
       "      <td>49</td>\n",
       "      <td>49</td>\n",
       "      <td>65</td>\n",
       "      <td>65</td>\n",
       "      <td>45</td>\n",
       "      <td>1</td>\n",
       "      <td>False</td>\n",
       "    </tr>\n",
       "    <tr>\n",
       "      <th>1</th>\n",
       "      <td>Ivysaur</td>\n",
       "      <td>Grass</td>\n",
       "      <td>Poison</td>\n",
       "      <td>405</td>\n",
       "      <td>60</td>\n",
       "      <td>62</td>\n",
       "      <td>63</td>\n",
       "      <td>80</td>\n",
       "      <td>80</td>\n",
       "      <td>60</td>\n",
       "      <td>1</td>\n",
       "      <td>False</td>\n",
       "    </tr>\n",
       "    <tr>\n",
       "      <th>2</th>\n",
       "      <td>Venusaur</td>\n",
       "      <td>Grass</td>\n",
       "      <td>Poison</td>\n",
       "      <td>525</td>\n",
       "      <td>80</td>\n",
       "      <td>82</td>\n",
       "      <td>83</td>\n",
       "      <td>100</td>\n",
       "      <td>100</td>\n",
       "      <td>80</td>\n",
       "      <td>1</td>\n",
       "      <td>False</td>\n",
       "    </tr>\n",
       "    <tr>\n",
       "      <th>3</th>\n",
       "      <td>VenusaurMega Venusaur</td>\n",
       "      <td>Grass</td>\n",
       "      <td>Poison</td>\n",
       "      <td>625</td>\n",
       "      <td>80</td>\n",
       "      <td>100</td>\n",
       "      <td>123</td>\n",
       "      <td>122</td>\n",
       "      <td>120</td>\n",
       "      <td>80</td>\n",
       "      <td>1</td>\n",
       "      <td>False</td>\n",
       "    </tr>\n",
       "    <tr>\n",
       "      <th>4</th>\n",
       "      <td>Charmander</td>\n",
       "      <td>Fire</td>\n",
       "      <td>NaN</td>\n",
       "      <td>309</td>\n",
       "      <td>39</td>\n",
       "      <td>52</td>\n",
       "      <td>43</td>\n",
       "      <td>60</td>\n",
       "      <td>50</td>\n",
       "      <td>65</td>\n",
       "      <td>1</td>\n",
       "      <td>False</td>\n",
       "    </tr>\n",
       "  </tbody>\n",
       "</table>\n",
       "</div>"
      ],
      "text/plain": [
       "                    Name Type 1  Type 2  Total  HP  Attack  Defense  Sp. Atk  \\\n",
       "0              Bulbasaur  Grass  Poison    318  45      49       49       65   \n",
       "1                Ivysaur  Grass  Poison    405  60      62       63       80   \n",
       "2               Venusaur  Grass  Poison    525  80      82       83      100   \n",
       "3  VenusaurMega Venusaur  Grass  Poison    625  80     100      123      122   \n",
       "4             Charmander   Fire     NaN    309  39      52       43       60   \n",
       "\n",
       "   Sp. Def  Speed  Generation  Legendary  \n",
       "0       65     45           1      False  \n",
       "1       80     60           1      False  \n",
       "2      100     80           1      False  \n",
       "3      120     80           1      False  \n",
       "4       50     65           1      False  "
      ]
     },
     "execution_count": 2,
     "metadata": {},
     "output_type": "execute_result"
    }
   ],
   "source": [
    "df.head()"
   ]
  },
  {
   "cell_type": "markdown",
   "metadata": {},
   "source": [
    "### find pokemon by type\n"
   ]
  },
  {
   "cell_type": "code",
   "execution_count": 3,
   "metadata": {},
   "outputs": [
    {
     "name": "stdout",
     "output_type": "stream",
     "text": [
      "Type: Fire\n",
      "Charmander\n",
      "Charmeleon\n",
      "Charizard\n",
      "CharizardMega Charizard X\n",
      "CharizardMega Charizard Y\n",
      "Vulpix\n",
      "Ninetales\n",
      "Growlithe\n",
      "Arcanine\n",
      "Ponyta\n",
      "Rapidash\n",
      "Magmar\n",
      "Flareon\n",
      "Moltres\n",
      "Cyndaquil\n",
      "Quilava\n",
      "Typhlosion\n",
      "Slugma\n",
      "Magcargo\n",
      "Magby\n",
      "Entei\n",
      "Ho-oh\n",
      "Torchic\n",
      "Combusken\n",
      "Blaziken\n",
      "BlazikenMega Blaziken\n",
      "Numel\n",
      "Camerupt\n",
      "CameruptMega Camerupt\n",
      "Torkoal\n",
      "Chimchar\n",
      "Monferno\n",
      "Infernape\n",
      "Magmortar\n",
      "Heatran\n",
      "Tepig\n",
      "Pignite\n",
      "Emboar\n",
      "Pansear\n",
      "Simisear\n",
      "Darumaka\n",
      "DarmanitanStandard Mode\n",
      "DarmanitanZen Mode\n",
      "Heatmor\n",
      "Fennekin\n",
      "Braixen\n",
      "Delphox\n",
      "Fletchinder\n",
      "Talonflame\n",
      "Litleo\n",
      "Pyroar\n",
      "Volcanion\n"
     ]
    }
   ],
   "source": [
    "tdf = df.set_index(['Type 1' , 'Type 2'])\n",
    "tdf.sort_index(0 , ascending = [1 , 0])# must always sort index after setting\n",
    "\n",
    "def findByType(t1 , t2 = False):\n",
    "  for index , rows in tdf.iterrows():    \n",
    "          if index[0] == t1:\n",
    "               if (t2!=False) & (index[1] == t2):\n",
    "                   print(row['Name'])\n",
    "               else:\n",
    "                   print(rows['Name'])\n",
    "\n",
    "findByType(input('Type: '))\n"
   ]
  },
  {
   "cell_type": "code",
   "execution_count": 141,
   "metadata": {},
   "outputs": [
    {
     "name": "stdout",
     "output_type": "stream",
     "text": [
      "Select Primary type of pokemon to show: \n",
      "display secondary type? True or False(Default): \n"
     ]
    },
    {
     "data": {
      "text/plain": [
       "False"
      ]
     },
     "execution_count": 141,
     "metadata": {},
     "output_type": "execute_result"
    }
   ],
   "source": [
    "def showByType(t1 , idx = False):\n",
    "    if t1 == '':\n",
    "        return False\n",
    "    else:\n",
    "        print((tdf.drop(columns=['Total' , 'Generation', 'Legendary']).loc[t1]).to_string(index = idx))\n",
    "showByType(input('Select Primary type of pokemon to show: ') , input('display secondary type? True or False(Default): '))\n"
   ]
  },
  {
   "cell_type": "code",
   "execution_count": null,
   "metadata": {},
   "outputs": [],
   "source": []
  },
  {
   "cell_type": "markdown",
   "metadata": {},
   "source": [
    "# Finding legendaries\n"
   ]
  },
  {
   "cell_type": "code",
   "execution_count": 60,
   "metadata": {},
   "outputs": [],
   "source": [
    "ldf = df.set_index(['Generation' , 'Legendary'])\n",
    "#ldf = df\n",
    "ldf = ldf.sort_index(0 , ascending = [1 , 0]) #ascending generation descnding legendary False = 0 True = 1"
   ]
  },
  {
   "cell_type": "code",
   "execution_count": 5,
   "metadata": {},
   "outputs": [
    {
     "name": "stdout",
     "output_type": "stream",
     "text": [
      "Enter Name of pokemon to check if legendary: Mewtwo\n"
     ]
    },
    {
     "data": {
      "text/plain": [
       "True"
      ]
     },
     "execution_count": 5,
     "metadata": {},
     "output_type": "execute_result"
    }
   ],
   "source": [
    "def isLegendary(name):\n",
    "    for index , row in ldf.iterrows():\n",
    "        if (row['Name'] == name)&(index[1] == True):\n",
    "            return True\n",
    "        else:\n",
    "            continue\n",
    "    return False\n",
    "\n",
    "isLegendary(input('Enter Name of pokemon to check if legendary: '))"
   ]
  },
  {
   "cell_type": "code",
   "execution_count": null,
   "metadata": {},
   "outputs": [],
   "source": [
    "\n"
   ]
  },
  {
   "cell_type": "code",
   "execution_count": null,
   "metadata": {},
   "outputs": [],
   "source": [
    "\n"
   ]
  },
  {
   "cell_type": "markdown",
   "metadata": {},
   "source": [
    "# Filtering Methods\n"
   ]
  },
  {
   "cell_type": "code",
   "execution_count": 56,
   "metadata": {},
   "outputs": [
    {
     "data": {
      "text/html": [
       "<style  type=\"text/css\" >\n",
       "</style><table id=\"T_6aa7bf9a_7e90_11ea_ac6d_e0ca94fd06f0\" ><thead>    <tr>        <th class=\"col_heading level0 col0\" >Name</th>        <th class=\"col_heading level0 col1\" >Total</th>        <th class=\"col_heading level0 col2\" >Generation</th>    </tr></thead><tbody>\n",
       "                <tr>\n",
       "                                        <td id=\"T_6aa7bf9a_7e90_11ea_ac6d_e0ca94fd06f0row0_col0\" class=\"data row0 col0\" >TyranitarMega Tyranitar</td>\n",
       "                        <td id=\"T_6aa7bf9a_7e90_11ea_ac6d_e0ca94fd06f0row0_col1\" class=\"data row0 col1\" >700</td>\n",
       "                        <td id=\"T_6aa7bf9a_7e90_11ea_ac6d_e0ca94fd06f0row0_col2\" class=\"data row0 col2\" >2</td>\n",
       "            </tr>\n",
       "            <tr>\n",
       "                                        <td id=\"T_6aa7bf9a_7e90_11ea_ac6d_e0ca94fd06f0row1_col0\" class=\"data row1 col0\" >SalamenceMega Salamence</td>\n",
       "                        <td id=\"T_6aa7bf9a_7e90_11ea_ac6d_e0ca94fd06f0row1_col1\" class=\"data row1 col1\" >700</td>\n",
       "                        <td id=\"T_6aa7bf9a_7e90_11ea_ac6d_e0ca94fd06f0row1_col2\" class=\"data row1 col2\" >3</td>\n",
       "            </tr>\n",
       "            <tr>\n",
       "                                        <td id=\"T_6aa7bf9a_7e90_11ea_ac6d_e0ca94fd06f0row2_col0\" class=\"data row2 col0\" >MetagrossMega Metagross</td>\n",
       "                        <td id=\"T_6aa7bf9a_7e90_11ea_ac6d_e0ca94fd06f0row2_col1\" class=\"data row2 col1\" >700</td>\n",
       "                        <td id=\"T_6aa7bf9a_7e90_11ea_ac6d_e0ca94fd06f0row2_col2\" class=\"data row2 col2\" >3</td>\n",
       "            </tr>\n",
       "            <tr>\n",
       "                                        <td id=\"T_6aa7bf9a_7e90_11ea_ac6d_e0ca94fd06f0row3_col0\" class=\"data row3 col0\" >GarchompMega Garchomp</td>\n",
       "                        <td id=\"T_6aa7bf9a_7e90_11ea_ac6d_e0ca94fd06f0row3_col1\" class=\"data row3 col1\" >700</td>\n",
       "                        <td id=\"T_6aa7bf9a_7e90_11ea_ac6d_e0ca94fd06f0row3_col2\" class=\"data row3 col2\" >4</td>\n",
       "            </tr>\n",
       "            <tr>\n",
       "                                        <td id=\"T_6aa7bf9a_7e90_11ea_ac6d_e0ca94fd06f0row4_col0\" class=\"data row4 col0\" >Slaking</td>\n",
       "                        <td id=\"T_6aa7bf9a_7e90_11ea_ac6d_e0ca94fd06f0row4_col1\" class=\"data row4 col1\" >670</td>\n",
       "                        <td id=\"T_6aa7bf9a_7e90_11ea_ac6d_e0ca94fd06f0row4_col2\" class=\"data row4 col2\" >3</td>\n",
       "            </tr>\n",
       "            <tr>\n",
       "                                        <td id=\"T_6aa7bf9a_7e90_11ea_ac6d_e0ca94fd06f0row5_col0\" class=\"data row5 col0\" >GyaradosMega Gyarados</td>\n",
       "                        <td id=\"T_6aa7bf9a_7e90_11ea_ac6d_e0ca94fd06f0row5_col1\" class=\"data row5 col1\" >640</td>\n",
       "                        <td id=\"T_6aa7bf9a_7e90_11ea_ac6d_e0ca94fd06f0row5_col2\" class=\"data row5 col2\" >1</td>\n",
       "            </tr>\n",
       "            <tr>\n",
       "                                        <td id=\"T_6aa7bf9a_7e90_11ea_ac6d_e0ca94fd06f0row6_col0\" class=\"data row6 col0\" >SwampertMega Swampert</td>\n",
       "                        <td id=\"T_6aa7bf9a_7e90_11ea_ac6d_e0ca94fd06f0row6_col1\" class=\"data row6 col1\" >635</td>\n",
       "                        <td id=\"T_6aa7bf9a_7e90_11ea_ac6d_e0ca94fd06f0row6_col2\" class=\"data row6 col2\" >3</td>\n",
       "            </tr>\n",
       "            <tr>\n",
       "                                        <td id=\"T_6aa7bf9a_7e90_11ea_ac6d_e0ca94fd06f0row7_col0\" class=\"data row7 col0\" >CharizardMega Charizard X</td>\n",
       "                        <td id=\"T_6aa7bf9a_7e90_11ea_ac6d_e0ca94fd06f0row7_col1\" class=\"data row7 col1\" >634</td>\n",
       "                        <td id=\"T_6aa7bf9a_7e90_11ea_ac6d_e0ca94fd06f0row7_col2\" class=\"data row7 col2\" >1</td>\n",
       "            </tr>\n",
       "            <tr>\n",
       "                                        <td id=\"T_6aa7bf9a_7e90_11ea_ac6d_e0ca94fd06f0row8_col0\" class=\"data row8 col0\" >CharizardMega Charizard Y</td>\n",
       "                        <td id=\"T_6aa7bf9a_7e90_11ea_ac6d_e0ca94fd06f0row8_col1\" class=\"data row8 col1\" >634</td>\n",
       "                        <td id=\"T_6aa7bf9a_7e90_11ea_ac6d_e0ca94fd06f0row8_col2\" class=\"data row8 col2\" >1</td>\n",
       "            </tr>\n",
       "            <tr>\n",
       "                                        <td id=\"T_6aa7bf9a_7e90_11ea_ac6d_e0ca94fd06f0row9_col0\" class=\"data row9 col0\" >BlastoiseMega Blastoise</td>\n",
       "                        <td id=\"T_6aa7bf9a_7e90_11ea_ac6d_e0ca94fd06f0row9_col1\" class=\"data row9 col1\" >630</td>\n",
       "                        <td id=\"T_6aa7bf9a_7e90_11ea_ac6d_e0ca94fd06f0row9_col2\" class=\"data row9 col2\" >1</td>\n",
       "            </tr>\n",
       "            <tr>\n",
       "                                        <td id=\"T_6aa7bf9a_7e90_11ea_ac6d_e0ca94fd06f0row10_col0\" class=\"data row10 col0\" >SceptileMega Sceptile</td>\n",
       "                        <td id=\"T_6aa7bf9a_7e90_11ea_ac6d_e0ca94fd06f0row10_col1\" class=\"data row10 col1\" >630</td>\n",
       "                        <td id=\"T_6aa7bf9a_7e90_11ea_ac6d_e0ca94fd06f0row10_col2\" class=\"data row10 col2\" >3</td>\n",
       "            </tr>\n",
       "            <tr>\n",
       "                                        <td id=\"T_6aa7bf9a_7e90_11ea_ac6d_e0ca94fd06f0row11_col0\" class=\"data row11 col0\" >BlazikenMega Blaziken</td>\n",
       "                        <td id=\"T_6aa7bf9a_7e90_11ea_ac6d_e0ca94fd06f0row11_col1\" class=\"data row11 col1\" >630</td>\n",
       "                        <td id=\"T_6aa7bf9a_7e90_11ea_ac6d_e0ca94fd06f0row11_col2\" class=\"data row11 col2\" >3</td>\n",
       "            </tr>\n",
       "            <tr>\n",
       "                                        <td id=\"T_6aa7bf9a_7e90_11ea_ac6d_e0ca94fd06f0row12_col0\" class=\"data row12 col0\" >AggronMega Aggron</td>\n",
       "                        <td id=\"T_6aa7bf9a_7e90_11ea_ac6d_e0ca94fd06f0row12_col1\" class=\"data row12 col1\" >630</td>\n",
       "                        <td id=\"T_6aa7bf9a_7e90_11ea_ac6d_e0ca94fd06f0row12_col2\" class=\"data row12 col2\" >3</td>\n",
       "            </tr>\n",
       "            <tr>\n",
       "                                        <td id=\"T_6aa7bf9a_7e90_11ea_ac6d_e0ca94fd06f0row13_col0\" class=\"data row13 col0\" >VenusaurMega Venusaur</td>\n",
       "                        <td id=\"T_6aa7bf9a_7e90_11ea_ac6d_e0ca94fd06f0row13_col1\" class=\"data row13 col1\" >625</td>\n",
       "                        <td id=\"T_6aa7bf9a_7e90_11ea_ac6d_e0ca94fd06f0row13_col2\" class=\"data row13 col2\" >1</td>\n",
       "            </tr>\n",
       "            <tr>\n",
       "                                        <td id=\"T_6aa7bf9a_7e90_11ea_ac6d_e0ca94fd06f0row14_col0\" class=\"data row14 col0\" >LucarioMega Lucario</td>\n",
       "                        <td id=\"T_6aa7bf9a_7e90_11ea_ac6d_e0ca94fd06f0row14_col1\" class=\"data row14 col1\" >625</td>\n",
       "                        <td id=\"T_6aa7bf9a_7e90_11ea_ac6d_e0ca94fd06f0row14_col2\" class=\"data row14 col2\" >4</td>\n",
       "            </tr>\n",
       "    </tbody></table>"
      ],
      "text/plain": [
       "<pandas.io.formats.style.Styler at 0x2abb052e688>"
      ]
     },
     "execution_count": 56,
     "metadata": {},
     "output_type": "execute_result"
    }
   ],
   "source": [
    "out = tdf.loc[(tdf['Total'] >620)&(tdf['Legendary'] == False)]#\n",
    "out = out.sort_values(by='Total', ascending =False)\n",
    "out = out[['Name' , 'Total', 'Generation']].style.hide_index()\n",
    "out"
   ]
  },
  {
   "cell_type": "markdown",
   "metadata": {},
   "source": [
    "## Making summarized DF and saving to CSV"
   ]
  },
  {
   "cell_type": "code",
   "execution_count": 116,
   "metadata": {},
   "outputs": [],
   "source": [
    "sdf = df\n",
    "sdf['Power'] = sdf['Attack'] + sdf['Sp. Atk']\n",
    "sdf['Protection'] = sdf.iloc[: , [6,8]].sum(axis=1)\n",
    "sdf = sdf.drop(columns = sdf.columns[4:11])\n",
    "sdf= sdf.iloc[:,[0,1,2,3,5,6,4]]"
   ]
  },
  {
   "cell_type": "code",
   "execution_count": 118,
   "metadata": {},
   "outputs": [],
   "source": [
    "sdf.head().style.hide_index()\n",
    "sdf.to_csv('Summarized.csv')"
   ]
  },
  {
   "cell_type": "code",
   "execution_count": null,
   "metadata": {},
   "outputs": [],
   "source": []
  },
  {
   "cell_type": "code",
   "execution_count": null,
   "metadata": {},
   "outputs": [],
   "source": []
  }
 ],
 "metadata": {
  "kernelspec": {
   "display_name": "Python 3",
   "language": "python",
   "name": "python3"
  },
  "language_info": {
   "codemirror_mode": {
    "name": "ipython",
    "version": 3
   },
   "file_extension": ".py",
   "mimetype": "text/x-python",
   "name": "python",
   "nbconvert_exporter": "python",
   "pygments_lexer": "ipython3",
   "version": "3.7.6"
  }
 },
 "nbformat": 4,
 "nbformat_minor": 4
}
