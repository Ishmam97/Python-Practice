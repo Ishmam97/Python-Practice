{
 "cells": [
  {
   "cell_type": "code",
   "execution_count": 7,
   "metadata": {},
   "outputs": [],
   "source": [
    "import requests\n",
    "import lxml.html as lh\n",
    "import pandas as pd\n",
    "import numpy as np\n",
    "import PyPDF2\n",
    "import tabula"
   ]
  },
  {
   "cell_type": "markdown",
   "metadata": {},
   "source": [
    "### Methods\n"
   ]
  },
  {
   "cell_type": "code",
   "execution_count": 8,
   "metadata": {},
   "outputs": [],
   "source": [
    "def get_files_list(url):\n",
    "    #Create a handle, page, to handle the contents of the website\n",
    "    page = requests.get(url)\n",
    "    #Store the contents of the website under doc\n",
    "    doc = lh.fromstring(page.content)\n",
    "    #look for links in the website\n",
    "    tree = lh.fromstring(page.text)\n",
    "    links = []\n",
    "    for link_element in tree.xpath('//td//a')[1:]:\n",
    "        links.append(link_element.get('href'))\n",
    "    return links\n",
    "\n",
    "def save_list(li):\n",
    "    with open('FilesList.txt', 'w') as filehandle:\n",
    "        for listitem in li:\n",
    "            filehandle.write('%s\\n' % listitem)\n",
    "        print('List saved as FilesList.txt')\n",
    "\n",
    "def load_list(): \n",
    "    lines = []\n",
    "    with open('FilesList.txt', 'r') as filehandle:        \n",
    "        lines = [line[:-1] for line in filehandle]\n",
    "    return lines\n",
    "\n",
    "def download_file(f):\n",
    "    db_url = \"https://www.iedcr.gov.bd/website/images/files/nCoV/\"\n",
    "    url = db_url + f\n",
    "    response = requests.get(url)\n",
    "    file_name = url.split('/')[-1:][0]\n",
    "    with open(file_name, 'wb') as f:\n",
    "        f.write(response.content)\n",
    "        print(file_name +' saved!')\n",
    "\n",
    "def get_new_files(url):\n",
    "    links = get_files_list(url)\n",
    "    #check for updates\n",
    "    old = load_list()\n",
    "    updates = []\n",
    "    for item in links :    \n",
    "        if item not in old:\n",
    "            updates.append(item)\n",
    "    #download new files in site\n",
    "    for item in updates:\n",
    "        download_file(item)\n",
    "    #save current list\n",
    "    save_list(links)\n",
    "    print(\"new files from website saved\")\n",
    "\n",
    "def get_latest_dl(): #get file name from downloads list\n",
    "    with open('FilesList.txt', 'r') as filehandle:        \n",
    "        lines = [line for line in filehandle]\n",
    "    return lines[0].split()[0]\n",
    "\n",
    "\n",
    "def pdf_to_csv(file = get_latest_dl()): #input pdf name or by default uses latest file\n",
    "    df = tabula.read_pdf(file, pages = [1, 2])#does not read first table\n",
    "    final = df[1]\n",
    "    final.columns = ['Location' , 'Total']\n",
    "    for idx , dfa in enumerate(df[2:]):\n",
    "        x = dfa[:].values\n",
    "        x = np.append(x, [final.columns[0] , final.columns[1]])\n",
    "        dataset = pd.DataFrame({final.columns[0]: x[0:-2:2], final.columns[1]: x[1:-2:2]})\n",
    "        final = pd.concat([final , dataset])\n",
    "\n",
    "    final = final.reset_index(drop = True)\n",
    "\n",
    "    final.to_csv('corona.csv' , index = False)\n",
    "    print('saved as corona.csv')"
   ]
  },
  {
   "cell_type": "code",
   "execution_count": 9,
   "metadata": {},
   "outputs": [
    {
     "name": "stdout",
     "output_type": "stream",
     "text": [
      "List saved as FilesList.txt\n",
      "new files from website saved\n"
     ]
    }
   ],
   "source": [
    "url = 'https://www.iedcr.gov.bd/website/images/files/nCoV/?C=M;O=D'\n",
    "get_new_files(url)"
   ]
  },
  {
   "cell_type": "code",
   "execution_count": 10,
   "metadata": {},
   "outputs": [
    {
     "name": "stderr",
     "output_type": "stream",
     "text": [
      "Got stderr: Jun 13, 2020 11:46:58 AM org.apache.pdfbox.pdmodel.font.PDCIDFontType2 <init>\r\n",
      "INFO: OpenType Layout tables used in font ABCDEE+Calibri are not implemented in PDFBox and will be ignored\r\n",
      "Jun 13, 2020 11:47:00 AM org.apache.pdfbox.pdmodel.font.PDCIDFontType2 <init>\r\n",
      "INFO: OpenType Layout tables used in font ABCDEE+Calibri are not implemented in PDFBox and will be ignored\r\n",
      "Jun 13, 2020 11:47:02 AM org.apache.pdfbox.pdmodel.font.PDCIDFontType2 <init>\r\n",
      "INFO: OpenType Layout tables used in font ABCDEE+Calibri are not implemented in PDFBox and will be ignored\r\n",
      "\n"
     ]
    },
    {
     "name": "stdout",
     "output_type": "stream",
     "text": [
      "saved as corona.csv\n"
     ]
    }
   ],
   "source": [
    "pdf_to_csv()"
   ]
  },
  {
   "cell_type": "code",
   "execution_count": 4,
   "metadata": {},
   "outputs": [
    {
     "name": "stdout",
     "output_type": "stream",
     "text": [
      "3\n"
     ]
    }
   ],
   "source": [
    "# pdf = open(get_latest_dl() ,'rb')\n",
    "# pdfReader = PyPDF2.PdfFileReader(pdf)\n",
    "# extracted_text = \"\"\n",
    "\n",
    "# # number of pages in pdf\n",
    "# print(pdfReader.numPages)\n",
    "# # a page object\n",
    "# for page in range(1,2):\n",
    "#     pageObj = pdfReader.getPage(page)\n",
    "#     # extracting text from page.\n",
    "#     extracted_text+= pageObj.extractText()\n",
    "# aux = extracted_text.split()[12:]\n",
    "# aux"
   ]
  }
 ],
 "metadata": {
  "kernelspec": {
   "display_name": "Python 3",
   "language": "python",
   "name": "python3"
  },
  "language_info": {
   "codemirror_mode": {
    "name": "ipython",
    "version": 3
   },
   "file_extension": ".py",
   "mimetype": "text/x-python",
   "name": "python",
   "nbconvert_exporter": "python",
   "pygments_lexer": "ipython3",
   "version": "3.7.6"
  }
 },
 "nbformat": 4,
 "nbformat_minor": 4
}
