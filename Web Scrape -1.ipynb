{
 "cells": [
  {
   "cell_type": "code",
   "execution_count": 81,
   "metadata": {},
   "outputs": [],
   "source": [
    "import requests\n",
    "import lxml.html as lh\n",
    "import pandas as pd"
   ]
  },
  {
   "cell_type": "code",
   "execution_count": 129,
   "metadata": {},
   "outputs": [
    {
     "name": "stdout",
     "output_type": "stream",
     "text": [
      "List saved as FilesList.txt\n",
      "new files from website saved\n"
     ]
    }
   ],
   "source": [
    "url = 'https://www.iedcr.gov.bd/website/images/files/nCoV/?C=M;O=D'\n",
    "get_new_files(url)"
   ]
  },
  {
   "cell_type": "markdown",
   "metadata": {},
   "source": [
    "### Methods\n"
   ]
  },
  {
   "cell_type": "code",
   "execution_count": 123,
   "metadata": {},
   "outputs": [],
   "source": [
    "def get_files_list(url):\n",
    "    #Create a handle, page, to handle the contents of the website\n",
    "    page = requests.get(url)\n",
    "    #Store the contents of the website under doc\n",
    "    doc = lh.fromstring(page.content)\n",
    "    #look for links in the website\n",
    "    tree = lh.fromstring(page.text)\n",
    "    links = []\n",
    "    for link_element in tree.xpath('//td//a')[1:]:\n",
    "        links.append(link_element.get('href'))\n",
    "    return links\n",
    "\n",
    "def save_list(li):\n",
    "    with open('FilesList.txt', 'w') as filehandle:\n",
    "        for listitem in li:\n",
    "            filehandle.write('%s\\n' % listitem)\n",
    "        print('List saved as FilesList.txt')\n",
    "\n",
    "def load_list(): \n",
    "    lines = []\n",
    "    with open('FilesList.txt', 'r') as filehandle:        \n",
    "        lines = [line[:-1] for line in filehandle]\n",
    "    return lines\n",
    "\n",
    "def download_file(f):\n",
    "    db_url = \"https://www.iedcr.gov.bd/website/images/files/nCoV/\"\n",
    "    url = db_url + f\n",
    "    response = requests.get(url)\n",
    "    file_name = url.split('/')[-1:][0]\n",
    "    with open(file_name, 'wb') as f:\n",
    "        f.write(response.content)\n",
    "        print(file_name +' saved!')\n",
    "\n",
    "def get_new_files(url):\n",
    "    links = get_files_list(url)\n",
    "    #check for updates\n",
    "    old = load_list()\n",
    "    updates = []\n",
    "    for item in links :    \n",
    "        if item not in old:\n",
    "            updates.append(item)\n",
    "    #download new files in site\n",
    "    for item in updates:\n",
    "        download_file(item)\n",
    "    #save current list\n",
    "    save_list(links)\n",
    "    print(\"new files from website saved\")"
   ]
  }
 ],
 "metadata": {
  "kernelspec": {
   "display_name": "Python 3",
   "language": "python",
   "name": "python3"
  },
  "language_info": {
   "codemirror_mode": {
    "name": "ipython",
    "version": 3
   },
   "file_extension": ".py",
   "mimetype": "text/x-python",
   "name": "python",
   "nbconvert_exporter": "python",
   "pygments_lexer": "ipython3",
   "version": "3.7.6"
  }
 },
 "nbformat": 4,
 "nbformat_minor": 4
}
